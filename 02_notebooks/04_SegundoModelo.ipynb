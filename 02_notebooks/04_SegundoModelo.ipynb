{
 "cells": [
  {
   "cell_type": "markdown",
   "metadata": {},
   "source": [
    "## Tabla de contenidos \n",
    "\n",
    "1. [Contexto del modelo](#id1)\n",
    "\n",
    "    1.1. [Librerías utilizadas](#id2)\n",
    "\n",
    "2. [Preparación del dataset](#id3)\n",
    "\n",
    "    2.1. [Text Vectorization](#id4)\n",
    "    \n",
    "3. [Construcción del modelo](#id5)\n",
    "\n",
    "    3.1. [Explicación de las distintas capas del modelo](#id6) \n",
    "\n",
    "    3.2. [Explicación de la compilación del modelo](#id7)\n",
    "    \n",
    "    3.3. [Explicación del entrenamiento](#id8)\n",
    "\n",
    "4. [Predicciones](#id9)\n",
    "\n",
    "    4.1. [Predicciones de prueba](#id10)\n",
    "\n",
    "    4.2. [Predicciones en bloque](#id11)\n",
    "\n",
    "5. [Evaluación](#id12)\n",
    "\n",
    "6. [Exportación del modelo](#id13)"
   ]
  },
  {
   "cell_type": "markdown",
   "metadata": {},
   "source": [
    "<div id='id1' />\n",
    "\n",
    "# 1. Contexto del modelo"
   ]
  },
  {
   "cell_type": "markdown",
   "metadata": {},
   "source": [
    "<div id='id2' />\n",
    "\n",
    "## 1.1. Librerías utilizadas"
   ]
  },
  {
   "cell_type": "code",
   "execution_count": null,
   "metadata": {},
   "outputs": [],
   "source": [
    "# Tratamiento de datos\n",
    "\n",
    "import numpy as np\n",
    "import pandas as pd\n",
    "import re\n",
    "from bs4 import BeautifulSoup\n",
    "from wordcloud import WordCloud, STOPWORDS\n",
    "# import pickle\n",
    "# import warnings\n",
    "# warnings.filterwarnings('ignore')\n",
    "\n",
    "# Gráficas\n",
    "\n",
    "import seaborn as sns\n",
    "import matplotlib as mpl \n",
    "import matplotlib.pyplot as plt\n",
    "\n",
    "# Preprocesamiento\n",
    "\n",
    "from sklearn.utils import resample\n",
    "\n",
    "'''\n",
    "from sklearn.model_selection import train_test_split\n",
    "from sklearn.preprocessing import StandardScaler\n",
    "from sklearn.metrics import confusion_matrix\n",
    "\n",
    "import tensorflow as tf\n",
    "from tensorflow import keras \n",
    "from tensorflow.keras.layers import TextVectorization, LSTM, Dropout, Bidirectional, Dense, Embedding\n",
    "from tensorflow.keras.models import Sequential\n",
    "from tensorflow.keras.metrics import Precision, Recall, CategoricalAccuracy'''"
   ]
  },
  {
   "cell_type": "markdown",
   "metadata": {},
   "source": [
    "<div id='id3' />\n",
    "\n",
    "# 2. Preparación del dataset"
   ]
  }
 ],
 "metadata": {
  "kernelspec": {
   "display_name": "Python 3",
   "language": "python",
   "name": "python3"
  },
  "language_info": {
   "codemirror_mode": {
    "name": "ipython",
    "version": 3
   },
   "file_extension": ".py",
   "mimetype": "text/x-python",
   "name": "python",
   "nbconvert_exporter": "python",
   "pygments_lexer": "ipython3",
   "version": "3.12.4"
  }
 },
 "nbformat": 4,
 "nbformat_minor": 2
}
