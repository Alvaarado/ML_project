{
 "cells": [
  {
   "cell_type": "code",
   "execution_count": 3,
   "metadata": {},
   "outputs": [
    {
     "name": "stderr",
     "output_type": "stream",
     "text": [
      "2024-07-12 07:31:01.858685: I tensorflow/core/platform/cpu_feature_guard.cc:210] This TensorFlow binary is optimized to use available CPU instructions in performance-critical operations.\n",
      "To enable the following instructions: AVX2 FMA, in other operations, rebuild TensorFlow with the appropriate compiler flags.\n",
      "/Library/Frameworks/Python.framework/Versions/3.12/lib/python3.12/site-packages/keras/src/saving/saving_lib.py:576: UserWarning: Skipping variable loading for optimizer 'rmsprop', because it has 17 variables whereas the saved optimizer has 32 variables. \n",
      "  saveable.load_own_variables(weights_store.get(inner_path))\n"
     ]
    }
   ],
   "source": [
    "\n",
    "import pickle\n",
    "import numpy as np\n",
    "import pandas as pd\n",
    "import tensorflow as tf\n",
    "from tensorflow.keras.models import load_model\n",
    "\n",
    "# Cargamos el diccionario con los elementos asociados al modelo\n",
    "\n",
    "with open('../04_models/02_modelo_1_and_objects.pkl', 'rb') as f:\n",
    "    objects_to_save = pickle.load(f)\n",
    "\n",
    "# Cargamos el modelo y el vectorizador\n",
    "\n",
    "model = tf.keras.models.load_model('../04_models/01_primer_modelo.keras')\n",
    "vectorizer = objects_to_save['vectorizer']\n",
    "\n",
    "# Definir la función de predicción\n",
    "\n",
    "def predict_comment(comment):\n",
    "\n",
    "    # Vectorizamos el comentario de entrada\n",
    "\n",
    "    input_text = vectorizer([comment])\n",
    "    probabilities = model.predict(np.expand_dims(input_text, 0)) \n",
    "\n",
    "    # Asumimos que la salida es un array con las probabilidades para cada clase\n",
    "    \n",
    "    labels = [\"Toxic\", \"Severe Toxic\", \"Obscene\", \"Threat\", \"Insult\", \"Identity Hate\"]\n",
    "    \n",
    "    # Convertir las probabilidades a un diccionario\n",
    "    return dict(zip(labels, probabilities[0]))  # Usa [0] para acceder al primer (y único) conjunto de predicciones"
   ]
  },
  {
   "cell_type": "code",
   "execution_count": 2,
   "metadata": {},
   "outputs": [
    {
     "name": "stderr",
     "output_type": "stream",
     "text": [
      "2024-07-12 07:44:51.303120: I tensorflow/core/platform/cpu_feature_guard.cc:210] This TensorFlow binary is optimized to use available CPU instructions in performance-critical operations.\n",
      "To enable the following instructions: AVX2 FMA, in other operations, rebuild TensorFlow with the appropriate compiler flags.\n",
      "/Library/Frameworks/Python.framework/Versions/3.12/lib/python3.12/site-packages/keras/src/saving/saving_lib.py:576: UserWarning: Skipping variable loading for optimizer 'rmsprop', because it has 17 variables whereas the saved optimizer has 32 variables. \n",
      "  saveable.load_own_variables(weights_store.get(inner_path))\n"
     ]
    }
   ],
   "source": [
    "import pickle\n",
    "import numpy as np\n",
    "import pandas as pd\n",
    "import tensorflow as tf\n",
    "from tensorflow.keras.models import load_model\n",
    "\n",
    "# Cargamos el diccionario con los elementos asociados al modelo\n",
    "\n",
    "with open('../04_models/02_modelo_1_and_objects.pkl', 'rb') as f:\n",
    "    objects_to_save = pickle.load(f)\n",
    "\n",
    "# Cargamos el modelo y el vectorizador\n",
    "\n",
    "model = tf.keras.models.load_model('../04_models/01_primer_modelo.keras')\n",
    "vectorizer = objects_to_save['vectorizer']"
   ]
  },
  {
   "cell_type": "code",
   "execution_count": 3,
   "metadata": {},
   "outputs": [],
   "source": [
    "comentario = vectorizer('You are a piece of shit,  I am going to kill you!!')\n",
    "probabilidades = model.predict(np.expand_dims(comentario, 0)) \n",
    "probabilidades\n"
   ]
  }
 ],
 "metadata": {
  "kernelspec": {
   "display_name": "Python 3",
   "language": "python",
   "name": "python3"
  },
  "language_info": {
   "codemirror_mode": {
    "name": "ipython",
    "version": 3
   },
   "file_extension": ".py",
   "mimetype": "text/x-python",
   "name": "python",
   "nbconvert_exporter": "python",
   "pygments_lexer": "ipython3",
   "version": "3.12.4"
  }
 },
 "nbformat": 4,
 "nbformat_minor": 2
}
